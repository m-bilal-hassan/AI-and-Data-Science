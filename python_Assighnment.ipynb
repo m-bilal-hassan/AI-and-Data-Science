{
 "cells": [
  {
   "cell_type": "markdown",
   "metadata": {
    "id": "CUdxU51J52Jc"
   },
   "source": [
    "# ASSIGHNMENT_1 (SAYLANI (SMIT) ) Topic: print()"
   ]
  },
  {
   "cell_type": "markdown",
   "metadata": {
    "id": "O4XtVMeN52Ji"
   },
   "source": [
    "(QUESTION_1) Using the python print function print any string value, integer value, boolean value, float value in single print command"
   ]
  },
  {
   "cell_type": "code",
   "execution_count": 17,
   "metadata": {},
   "outputs": [
    {
     "name": "stdin",
     "output_type": "stream",
     "text": [
      "Enter The String anything :  SMIT\n",
      "Enter The any integer : 190324\n"
     ]
    },
    {
     "name": "stdout",
     "output_type": "stream",
     "text": [
      "string _value is : SMIT , integer_value is : 190324 , boolean_value is : True , float_value is : 25.35 \n"
     ]
    }
   ],
   "source": [
    "string_value=input(\"Enter The String anything : \")\n",
    "integer_value=int(input(\"Enter The any integer :\"))\n",
    "boolean_value=True\n",
    "float_value=25.35\n",
    "print(f\"string _value is : {string_value} , integer_value is : {integer_value} , boolean_value is : {boolean_value} , float_value is : {float_value} \")"
   ]
  },
  {
   "attachments": {},
   "cell_type": "markdown",
   "metadata": {
    "id": "iNinlTd052Jr"
   },
   "source": [
    "(QUESTION_2) Using the python print function print hyphon(-) separated any string value, integer value, boolean value, float value in single print command"
   ]
  },
  {
   "cell_type": "code",
   "execution_count": 20,
   "metadata": {},
   "outputs": [
    {
     "name": "stdin",
     "output_type": "stream",
     "text": [
      "Enter The hyphon Using String :  Saylani-SMIT\n",
      "Enter The any integer : 18452\n"
     ]
    },
    {
     "name": "stdout",
     "output_type": "stream",
     "text": [
      "hyphon _value : Saylani-SMIT , integer_value is : 18452 , boolean_value is : True , float_value is : 253.21 \n"
     ]
    }
   ],
   "source": [
    "hyphon=input(\"Enter The hyphon Using String : \")\n",
    "integer_value=int(input(\"Enter The any integer :\"))\n",
    "boolean_value=True\n",
    "float_value=253.21\n",
    "print(f\"hyphon _value : {hyphon} , integer_value is : {integer_value} , boolean_value is : {boolean_value} , float_value is : {float_value} \")"
   ]
  },
  {
   "cell_type": "markdown",
   "metadata": {
    "id": "4fNVS99O52Jt"
   },
   "source": [
    "(QUESTION_3) Using the python print function print any string value, integer value, boolean value, float value in separate print command.\n",
    "But every value must be space separated and in single line"
   ]
  },
  {
   "cell_type": "code",
   "execution_count": 21,
   "metadata": {},
   "outputs": [
    {
     "name": "stdout",
     "output_type": "stream",
     "text": [
      " SMIT  12366 True 5898.369\n"
     ]
    }
   ],
   "source": [
    "print(\" SMIT \"  ,  12366 , True , 5898.369 )"
   ]
  },
  {
   "cell_type": "markdown",
   "metadata": {
    "id": "akEUFstT52Jv"
   },
   "source": [
    "(QUESTION_4) Can a python print function take no value to print???\n"
   ]
  },
  {
   "cell_type": "code",
   "execution_count": 22,
   "metadata": {},
   "outputs": [
    {
     "name": "stdout",
     "output_type": "stream",
     "text": [
      "\n"
     ]
    }
   ],
   "source": [
    "print()"
   ]
  },
  {
   "cell_type": "markdown",
   "metadata": {
    "id": "vFPOFKW_52Jx"
   },
   "source": [
    "# TOPIC :Variables in Python Operators"
   ]
  },
  {
   "cell_type": "markdown",
   "metadata": {
    "id": "AzBzVODl52Jy"
   },
   "source": [
    "(QUESTION_5) One of my friends name is Mr. Ahmed. He is 30 years old.  He is a lawer by profession. He has done his bachelors in law in the year 2005. He is working with a reputable law firm 'The Himalya Associates' in Karachi since 2015.\n",
    "He is a handsome lawer with height of 5.10 feets and weight 70600g. His monthly income is Rs. 200k PKR.\n",
    "\n",
    "Note: Create variables from above text and also assign values from the text.  "
   ]
  },
  {
   "cell_type": "code",
   "execution_count": 23,
   "metadata": {},
   "outputs": [
    {
     "name": "stdout",
     "output_type": "stream",
     "text": [
      "Mr. Ahmed 30 Year old Lawer 2005 The Himalya Associates Karachi 2015  5.10 Feet   70600 g   200k PKR \n"
     ]
    }
   ],
   "source": [
    "Name=\"Mr. Ahmed\"\n",
    "Age= \"30 Year old\"\n",
    "profession=\"Lawer\"\n",
    "Bachlor_year=2005\n",
    "Current_Employes_as=\"The Himalya Associates\"\n",
    "Location=\"Karachi\"\n",
    "Working_since=2015\n",
    "Height=\" 5.10 Feet \"\n",
    "weight=\" 70600 g \"\n",
    "Monthly_income=\" 200k PKR \"\n",
    "print( Name, Age , profession , Bachlor_year , Current_Employes_as , Location,Working_since , Height,weight , Monthly_income )"
   ]
  },
  {
   "cell_type": "markdown",
   "metadata": {
    "id": "Uaf--v5S52J0"
   },
   "source": [
    "(QUESTION_6)How many years has been to Mr. Ahmed after his bachelors degree? Create a variable that hold current year value and then subtract it from his passout year"
   ]
  },
  {
   "cell_type": "code",
   "execution_count": 24,
   "metadata": {},
   "outputs": [
    {
     "name": "stdout",
     "output_type": "stream",
     "text": [
      " Final Result After Subtract 20 Year \n"
     ]
    }
   ],
   "source": [
    "Bachlor_year=2005\n",
    "current_year=2025\n",
    "subtract_it_from_his_passout_year= current_year-Bachlor_year\n",
    "print(f\" Final Result After Subtract {subtract_it_from_his_passout_year} Year \")"
   ]
  },
  {
   "cell_type": "markdown",
   "metadata": {
    "id": "SAQtVyvD52J1"
   },
   "source": [
    "(QUESTION_7) How many years has Mr. Ahmed been working with law firm 'The Himalya Associates'. Create necesary variables and print the correct number of years in working in the firm"
   ]
  },
  {
   "cell_type": "code",
   "execution_count": 25,
   "metadata": {},
   "outputs": [
    {
     "name": "stdout",
     "output_type": "stream",
     "text": [
      "Number of year The Working at The Himalya Associates  10 Year\n"
     ]
    }
   ],
   "source": [
    "Employes_working_at_The_Himalya_Associates_Working_since=2015\n",
    "current_year=2025\n",
    "Number_of_working_year=current_year-Employes_working_at_The_Himalya_Associates_Working_since\n",
    "print(f\"Number of year The Working at The Himalya Associates  { Number_of_working_year } Year\")"
   ]
  },
  {
   "cell_type": "markdown",
   "metadata": {
    "id": "Gnk1kIUj52J3"
   },
   "source": [
    "(QUESTION_8) Convert the monthly income of Mr. Ahmed in dollars.  Create necesary variables and print the income in dollars."
   ]
  },
  {
   "cell_type": "code",
   "execution_count": 26,
   "metadata": {},
   "outputs": [
    {
     "name": "stdout",
     "output_type": "stream",
     "text": [
      " monthly_income_of_MR_Ahmed_in_Doller: $$ 55800000\n"
     ]
    }
   ],
   "source": [
    "monthly_income_of_MR_Ahmed_in_PKR=200000\n",
    "# 1 Doller in PKR : 279\n",
    "monthly_income_of_MR_Ahmed_in_doller=279\n",
    "Result_in_Doller=monthly_income_of_MR_Ahmed_in_PKR*monthly_income_of_MR_Ahmed_in_doller\n",
    "print(f\" monthly_income_of_MR_Ahmed_in_Doller: $$ {Result_in_Doller}\")"
   ]
  },
  {
   "cell_type": "markdown",
   "metadata": {
    "id": "Adx4oblF52J4"
   },
   "source": [
    "(QUESTION_9) Check if the income in dollars is a float or integer value. if it is float, re-write the code so that income gets converted in integer. print the income in integer type value"
   ]
  },
  {
   "cell_type": "code",
   "execution_count": 27,
   "metadata": {},
   "outputs": [
    {
     "name": "stdout",
     "output_type": "stream",
     "text": [
      "The Value in Float is: 55800000.0 \n"
     ]
    }
   ],
   "source": [
    "Result_integer_in_Doller=55800000\n",
    "float_value=float(55800000)\n",
    "print (f\"The Value in Float is: {float_value} \")"
   ]
  },
  {
   "cell_type": "markdown",
   "metadata": {
    "id": "NcYepWgZ52J5"
   },
   "source": [
    "(QUESTION_10) Print the type of Mr. Ahmed's weight. Convert the weight of Mr. Ahmed in kg so that weight must be a integer value."
   ]
  },
  {
   "cell_type": "code",
   "execution_count": 28,
   "metadata": {},
   "outputs": [
    {
     "name": "stdout",
     "output_type": "stream",
     "text": [
      "Result_Mr_Ahmed_weight_in_Kilogram: 70.6 KG\n"
     ]
    }
   ],
   "source": [
    "Mr_Ahmed_weight_Gram=70600\n",
    "# Gram into kilogram Divide by 1000\n",
    "Result_Mr_Ahmed_weight_in_Kilogram=70600/1000\n",
    "print(f\"Result_Mr_Ahmed_weight_in_Kilogram: {Result_Mr_Ahmed_weight_in_Kilogram} KG\")"
   ]
  },
  {
   "cell_type": "markdown",
   "metadata": {
    "id": "05FU1XHw52J7"
   },
   "source": [
    "(QUESTION_11) print the year of birth of Mr. Ahmed."
   ]
  },
  {
   "cell_type": "code",
   "execution_count": 29,
   "metadata": {
    "id": "paq_3Kg152J8"
   },
   "outputs": [
    {
     "name": "stdout",
     "output_type": "stream",
     "text": [
      "30 Year old\n"
     ]
    }
   ],
   "source": [
    "print(Age)"
   ]
  },
  {
   "cell_type": "markdown",
   "metadata": {
    "id": "eWySSgh552J8"
   },
   "source": [
    "(QUESTION_12) Can Rs. 100 be divided equally among 6 students? <br>\n",
    "HINT: % operator (modulo)"
   ]
  },
  {
   "cell_type": "code",
   "execution_count": 30,
   "metadata": {},
   "outputs": [
    {
     "data": {
      "text/plain": [
       "4"
      ]
     },
     "execution_count": 30,
     "metadata": {},
     "output_type": "execute_result"
    }
   ],
   "source": [
    "#10%2\n",
    "\n",
    "100%6\n",
    "\n",
    "# 10 is completely divisible by 2\n",
    "\n",
    "# Answer: yes,comes in table 10%2\n",
    "\n",
    "# 10 is multiple of 2\n",
    "\n",
    "# Answer: yes,comes in table 2*5\n",
    "\n",
    "# 2 is a factor of 10\n",
    "\n",
    "# Answer: yes,comes in table 2*5\n",
    "# yes, 2,4,6,8,10\n",
    "\n",
    "# 10 comes in table of 2\n",
    "\n",
    "# Answer: yes,comes in table 2*5"
   ]
  },
  {
   "cell_type": "code",
   "execution_count": null,
   "metadata": {
    "id": "X3ncSwJt52KA"
   },
   "outputs": [],
   "source": []
  }
 ],
 "metadata": {
  "colab": {
   "provenance": []
  },
  "kernelspec": {
   "display_name": "Python 3 (ipykernel)",
   "language": "python",
   "name": "python3"
  },
  "language_info": {
   "codemirror_mode": {
    "name": "ipython",
    "version": 3
   },
   "file_extension": ".py",
   "mimetype": "text/x-python",
   "name": "python",
   "nbconvert_exporter": "python",
   "pygments_lexer": "ipython3",
   "version": "3.11.7"
  }
 },
 "nbformat": 4,
 "nbformat_minor": 4
}
