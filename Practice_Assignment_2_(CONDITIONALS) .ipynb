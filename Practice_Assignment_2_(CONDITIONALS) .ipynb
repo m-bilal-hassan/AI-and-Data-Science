{
 "cells": [
  {
   "cell_type": "markdown",
   "metadata": {
    "id": "8rksu2_jMVjQ"
   },
   "source": [
    "## Assighnment-2 (SMIT) Conditional-Statement\n",
    "##### 1) A company decided to give bonus of 5% to employee if his/her year of service is more than 5 years.Ask user for their salary and year of service and print the net bonus amount."
   ]
  },
  {
   "cell_type": "code",
   "execution_count": 11,
   "metadata": {
    "id": "_GRPHPiLMVjX"
   },
   "outputs": [
    {
     "name": "stdin",
     "output_type": "stream",
     "text": [
      "Enter a Salary in PKR:  50000\n",
      "Enter a Experience Year:  10\n"
     ]
    },
    {
     "name": "stdout",
     "output_type": "stream",
     "text": [
      "You Have Got 5% Bonus is Rs:2500.0\n"
     ]
    }
   ],
   "source": [
    "#Type your code here\n",
    "Salary=float(input(\"Enter a Salary in PKR: \"))\n",
    "Year_of_Experience=int(input(\"Enter a Experience Year: \"))\n",
    "if Year_of_Experience>5:\n",
    "    Bonus=Salary*0.05\n",
    "    print(f\"You Have Got 5% Bonus is Rs:{Bonus}\")\n",
    "else:\n",
    "    print(f\"Sorry!! You are not Eligible for Bonus Because Year of Experience is Less Than 5\")"
   ]
  },
  {
   "cell_type": "markdown",
   "metadata": {
    "id": "iXt5RVcjMVja"
   },
   "source": [
    "##### 2) Write a program to check whether a person is eligible for voting or not.  ask age of the person , if age is more than or equal to 18 then eligible if less than 18 no eligible"
   ]
  },
  {
   "cell_type": "code",
   "execution_count": 17,
   "metadata": {
    "id": "jXVCvia3MVjh"
   },
   "outputs": [
    {
     "name": "stdin",
     "output_type": "stream",
     "text": [
      "Enter Your age:  2\n"
     ]
    },
    {
     "name": "stdout",
     "output_type": "stream",
     "text": [
      "Sorry! You are Not Eligible For Vote Because your age is less than 18\n"
     ]
    }
   ],
   "source": [
    "#Type your code here\n",
    "Age=int(input(\"Enter Your age: \"))\n",
    "if Age>=18:\n",
    "    print(f\"Congrulation!! You Have Eligible For Vote\")\n",
    "else:\n",
    "    print(f\"Sorry! You are Not Eligible For Vote Because your age is less than 18\")"
   ]
  },
  {
   "cell_type": "markdown",
   "metadata": {},
   "source": [
    "##### 3) Take values of length and breadth of a rectangle from user and check if it is square or not. "
   ]
  },
  {
   "cell_type": "code",
   "execution_count": 22,
   "metadata": {},
   "outputs": [
    {
     "name": "stdin",
     "output_type": "stream",
     "text": [
      "Enter a length:  5\n",
      "Enter a Breadth:  5\n"
     ]
    },
    {
     "name": "stdout",
     "output_type": "stream",
     "text": [
      "It is a Square\n"
     ]
    }
   ],
   "source": [
    "#Type your code here\n",
    "length=int(input(\"Enter a length: \"))\n",
    "Breadth=int(input(\"Enter a Breadth: \"))\n",
    "if length==Breadth:\n",
    "    print(f\"It is a Square\")\n",
    "else:\n",
    "    print(f\"It is not a square\")"
   ]
  },
  {
   "cell_type": "markdown",
   "metadata": {
    "id": "IkNM7QpCMVjj"
   },
   "source": [
    "##### 4) Write a program to check whether a number entered by user is even or odd.\n",
    "Hint: Use modulo operator (%) to check remainder when divideing with 2 , if remainder is 0 even, else odd "
   ]
  },
  {
   "cell_type": "code",
   "execution_count": 24,
   "metadata": {
    "id": "-GxviwByMVjl"
   },
   "outputs": [
    {
     "name": "stdin",
     "output_type": "stream",
     "text": [
      "Enter a Any Number:  44\n"
     ]
    },
    {
     "name": "stdout",
     "output_type": "stream",
     "text": [
      "44: is even Number\n"
     ]
    }
   ],
   "source": [
    "#Type your code here\n",
    "Num=int(input(\"Enter a Any Number: \"))\n",
    "if Num%2==0:\n",
    "    print(f\"{Num}: is even Number\")\n",
    "else:\n",
    "    print(f\"{Num}: is odd Number\")"
   ]
  },
  {
   "cell_type": "markdown",
   "metadata": {
    "id": "_jEHjkfdMVjm"
   },
   "source": [
    "##### 5) Write a program to check whether a number is divisible by 7 or not.\n",
    "Hint: Use modulo operator (%) to check remainder when divideing with 7 , if remainder is 0 divisible, else not divisible\n"
   ]
  },
  {
   "cell_type": "code",
   "execution_count": 26,
   "metadata": {
    "id": "IRNXyG1GMVjo"
   },
   "outputs": [
    {
     "name": "stdin",
     "output_type": "stream",
     "text": [
      "Enter A value:  21\n"
     ]
    },
    {
     "name": "stdout",
     "output_type": "stream",
     "text": [
      "It is Divisible by 7\n"
     ]
    }
   ],
   "source": [
    "#Type your code here\n",
    "val=int(input(\"Enter A value: \"))\n",
    "if val%7==0:\n",
    "    print(f\"It is Divisible by 7\")\n",
    "else:\n",
    "    print(f\"Not a Divisible by 7\")"
   ]
  },
  {
   "cell_type": "markdown",
   "metadata": {
    "id": "XxfyVe4kMVjp"
   },
   "source": [
    "##### 6) Write a program to display \n",
    "\"Hello\" if a number entered by user is a multiple of five , otherwise print \"Bye\".\n",
    "Hint : modulo operator"
   ]
  },
  {
   "cell_type": "code",
   "execution_count": 30,
   "metadata": {
    "id": "Ixnz4R4TMVjr"
   },
   "outputs": [
    {
     "name": "stdin",
     "output_type": "stream",
     "text": [
      "Enter a number:  3696311\n"
     ]
    },
    {
     "name": "stdout",
     "output_type": "stream",
     "text": [
      "Bye\n"
     ]
    }
   ],
   "source": [
    "#Type your code here\n",
    "Num=int(input(\"Enter a number: \"))\n",
    "if Num%5==0:\n",
    "    print(\"Hello\")\n",
    "else:\n",
    "    print(\"Bye\")"
   ]
  },
  {
   "cell_type": "markdown",
   "metadata": {
    "id": "qfzRUUwOMVjs"
   },
   "source": [
    "##### 7) Write a program to calculate the electricity bill (accept number of unit from user) \n",
    "according to the following criteria :\n",
    "     Unit                                                     Price  \n",
    "upto 100 units                                              no charge\n",
    "Next 200 units                                              Rs 5 per unit\n",
    "After 300 units                                             Rs 10 per unit\n",
    "(For example if input unit is 350 than total bill amount is Rs.1500\n",
    "(For example if input unit is 97 than total bill amount is Rs.0\n",
    "(For example if input unit is 150 than total bill amount is Rs.250"
   ]
  },
  {
   "cell_type": "code",
   "execution_count": 31,
   "metadata": {
    "id": "1BY1oAIpMVju"
   },
   "outputs": [
    {
     "name": "stdin",
     "output_type": "stream",
     "text": [
      "Enter the number of units comsumed:  200\n"
     ]
    },
    {
     "name": "stdout",
     "output_type": "stream",
     "text": [
      "500\n"
     ]
    }
   ],
   "source": [
    "#Type your code here\n",
    "units = int(input(\"Enter the number of units comsumed: \"))\n",
    "if units <=100:\n",
    "    bill_amt = units*0\n",
    "elif units<=300:\n",
    "    bill_amt = (units-100)*5\n",
    "else:\n",
    "    bill_amt = 100*0  + (200)*5 + (units-300)*10\n",
    "    # 350       100*0 +  200*5  +    50 *10\n",
    "print(bill_amt)"
   ]
  },
  {
   "cell_type": "markdown",
   "metadata": {
    "id": "msAIDMRDMVjv"
   },
   "source": [
    "##### 7) Write a program to display the last digit of a number."
   ]
  },
  {
   "cell_type": "code",
   "execution_count": 39,
   "metadata": {
    "id": "VQwLuGzbMVjv"
   },
   "outputs": [
    {
     "name": "stdin",
     "output_type": "stream",
     "text": [
      "Enter a Value:  24155\n"
     ]
    },
    {
     "name": "stdout",
     "output_type": "stream",
     "text": [
      "Last Value is:  5\n"
     ]
    }
   ],
   "source": [
    "#Type your code here\n",
    "value=int(input(\"Enter a Value: \"))\n",
    "print(f\"Last Value is: \",value%10)"
   ]
  },
  {
   "cell_type": "markdown",
   "metadata": {
    "id": "UeLHzVZ_MVjw"
   },
   "source": [
    "##### 8) Write a program to check whether the last digit of a number( entered by user ) is \n",
    "divisible by 3 or ."
   ]
  },
  {
   "cell_type": "code",
   "execution_count": 51,
   "metadata": {
    "id": "KiQ5wnc6MVjx"
   },
   "outputs": [
    {
     "name": "stdin",
     "output_type": "stream",
     "text": [
      "Enter a number:  25888\n"
     ]
    },
    {
     "name": "stdout",
     "output_type": "stream",
     "text": [
      "The last digit of 25888 is not divisible by 3.\n"
     ]
    }
   ],
   "source": [
    "#Type your code here\n",
    "number = int(input(\"Enter a number: \"))\n",
    "last_digit = number % 10\n",
    "if last_digit % 3 == 0:\n",
    "    print(f\"The last digit of {number} is divisible by 3.\")\n",
    "else:\n",
    "    print(f\"The last digit of {number} is not divisible by 3.\")"
   ]
  },
  {
   "cell_type": "markdown",
   "metadata": {
    "id": "B2e5VYbiMVjz"
   },
   "source": [
    "##### 9) Take two int values from user and print greatest among them."
   ]
  },
  {
   "cell_type": "code",
   "execution_count": 55,
   "metadata": {
    "id": "LyYYL78HMVj0"
   },
   "outputs": [
    {
     "name": "stdin",
     "output_type": "stream",
     "text": [
      "Enter 1st Number:  8888\n",
      "Enter 2nd Number:  99999999999\n"
     ]
    },
    {
     "name": "stdout",
     "output_type": "stream",
     "text": [
      "Number 2 is greater: 99999999999\n"
     ]
    }
   ],
   "source": [
    "# Type your code here\n",
    "num1=int(input(\"Enter 1st Number: \"))\n",
    "num2=int(input(\"Enter 2nd Number: \"))\n",
    "if num1>= num2 and num1>=num2:\n",
    "    print(f\"Number 1 is greater: {num1}\")\n",
    "elif num2>=num1 and num2>=num1:\n",
    "    print(f\"Number 2 is greater: {num2}\")\n",
    "else:\n",
    "    print(f\"Error\")"
   ]
  },
  {
   "cell_type": "markdown",
   "metadata": {
    "id": "R9gMEjdQMVj1"
   },
   "source": [
    "##### 10) A shop will give discount of 10% if the cost of purchased quantity is more than 1000.\n",
    "Ask user for quantity\n",
    "Suppose, one unit will cost 100.\n",
    "Judge and print total cost for user."
   ]
  },
  {
   "cell_type": "code",
   "execution_count": null,
   "metadata": {
    "id": "hjvEnOzxMVj2"
   },
   "outputs": [],
   "source": [
    "#Type your code here"
   ]
  },
  {
   "cell_type": "markdown",
   "metadata": {
    "id": "yqYL7FZeMVj3"
   },
   "source": [
    "##### 11) A school has following rules for grading system:\n",
    "\n",
    "a. Below 25 - F\n",
    "\n",
    "b. 25 to 45 - E\n",
    "\n",
    "c. 45 to 50 - D\n",
    "\n",
    "d. 50 to 60 - C\n",
    "\n",
    "e. 60 to 80 - B\n",
    "\n",
    "f. Above 80 - A\n",
    "\n",
    "Ask user to enter marks and print the corresponding grade."
   ]
  },
  {
   "cell_type": "code",
   "execution_count": 60,
   "metadata": {
    "id": "he_r-bpOMVj4"
   },
   "outputs": [
    {
     "name": "stdin",
     "output_type": "stream",
     "text": [
      "Enter your marks:  1\n"
     ]
    },
    {
     "name": "stdout",
     "output_type": "stream",
     "text": [
      "Your grade is: F\n"
     ]
    }
   ],
   "source": [
    "marks = int(input(\"Enter your marks: \"))\n",
    "if marks < 25:\n",
    "    grade = 'F'\n",
    "elif 25 <= marks < 45:\n",
    "    grade = 'E'\n",
    "elif 45 <= marks < 50:\n",
    "    grade = 'D'\n",
    "elif 50 <= marks < 60:\n",
    "    grade = 'C'\n",
    "elif 60 <= marks < 80:\n",
    "    grade = 'B'\n",
    "else:\n",
    "    grade = 'A'\n",
    "print(f\"Your grade is: {grade}\")"
   ]
  },
  {
   "cell_type": "markdown",
   "metadata": {
    "id": "IUJjt9NbMVj4"
   },
   "source": [
    "##### 12) Take input of age of 3 people by user and determine oldest and youngest among them."
   ]
  },
  {
   "cell_type": "code",
   "execution_count": 7,
   "metadata": {
    "id": "vlre5Ck0MVj4"
   },
   "outputs": [
    {
     "name": "stdin",
     "output_type": "stream",
     "text": [
      "Enter the age of person 1:  896\n",
      "Enter the age of person 2:  666\n",
      "Enter the age of person 3:  33333\n"
     ]
    },
    {
     "name": "stdout",
     "output_type": "stream",
     "text": [
      "The oldest age is: 33333\n",
      "The youngest age is: 666\n"
     ]
    }
   ],
   "source": [
    "age1 = int(input(\"Enter the age of person 1: \"))\n",
    "age2 = int(input(\"Enter the age of person 2: \"))\n",
    "age3 = int(input(\"Enter the age of person 3: \"))\n",
    "oldest = max(age1, age2, age3)\n",
    "youngest = min(age1, age2, age3)\n",
    "print(f\"The oldest age is: {oldest}\")\n",
    "print(f\"The youngest age is: {youngest}\")"
   ]
  },
  {
   "cell_type": "markdown",
   "metadata": {
    "id": "Zc9ovDhsMVj5"
   },
   "source": [
    "##### 13)A student will not be allowed to sit in exam if his/her attendence is less than 75%.\n",
    "\n",
    "Take following input from user\n",
    "\n",
    "Number of classes held\n",
    "\n",
    "Number of classes attended.\n",
    "\n",
    "And print\n",
    "\n",
    "percentage of class attended\n",
    "\n",
    "Is student is allowed to sit in exam or not.\n"
   ]
  },
  {
   "cell_type": "code",
   "execution_count": 15,
   "metadata": {
    "id": "rseYum2_MVj6"
   },
   "outputs": [
    {
     "name": "stdin",
     "output_type": "stream",
     "text": [
      "How many Classes You Have Held in University?   56\n",
      "How many Classes You Have Attended in University?   50\n"
     ]
    },
    {
     "name": "stdout",
     "output_type": "stream",
     "text": [
      "Attendence_Percentage: 89.28571428571429%\n",
      "Congratulatin!  You Have Sit In Exam\n"
     ]
    }
   ],
   "source": [
    "#Type your code here\n",
    "Class_Held=int(input(\"How many Classes You Have Held in University?  \"))\n",
    "Class_Attended=int(input(\"How many Classes You Have Attended in University?  \"))\n",
    "Attendence_Percentage=(Class_Attended/Class_Held)*100\n",
    "print(f\"Attendence_Percentage: {Attendence_Percentage}%\")\n",
    "if Attendence_Percentage>=75:\n",
    "    print(f\"Congratulatin!  You Have Sit In Exam\")\n",
    "else:\n",
    "    print(f\"Sorry! You Have Not Sit In Exam\")"
   ]
  },
  {
   "cell_type": "markdown",
   "metadata": {
    "id": "58UPPHAOMVj6"
   },
   "source": [
    "##### 14) Modify the above question to allow student to sit if he/she has medical cause. Ask user if he/she has medical cause or not ( 'Y' or 'N' ) and print accordingly."
   ]
  },
  {
   "cell_type": "code",
   "execution_count": 24,
   "metadata": {
    "id": "lDi-xLzTMVj7"
   },
   "outputs": [
    {
     "name": "stdin",
     "output_type": "stream",
     "text": [
      "How many Classes You Have Held in University?   50\n",
      "How many Classes You Have Attended in University?   49\n",
      "Do You Have Medical issue You Have Not Attended Calss (Y/N):  y\n"
     ]
    },
    {
     "name": "stdout",
     "output_type": "stream",
     "text": [
      "Attendence_Percentage: 98.0%\n",
      "Congratulatin!  You Have Sit In Exam\n"
     ]
    }
   ],
   "source": [
    "#Type your code here\n",
    "Class_Held=int(input(\"How many Classes You Have Held in University?  \"))\n",
    "Class_Attended=int(input(\"How many Classes You Have Attended in University?  \"))\n",
    "Attendence_Percentage=(Class_Attended/Class_Held)*100\n",
    "Medical_check=input(\"Do You Have Medical issue You Have Not Attended Calss (Y/N): \").upper()\n",
    "print(f\"Attendence_Percentage: {Attendence_Percentage}%\")\n",
    "if Attendence_Percentage>=75 and Medical_check==\"Y\":\n",
    "    print(f\"Congratulatin!  You Have Sit In Exam\")\n",
    "else:\n",
    "    print(f\"Sorry! You Have Not Sit In Exam\")"
   ]
  },
  {
   "cell_type": "markdown",
   "metadata": {
    "id": "kJtSy1EoMVj7"
   },
   "source": [
    "##### 15) Write a program to check if a year is leap year or not.\n",
    "\n",
    "If a year is divisible by 4 then it is leap year but if the year is century year like 2000, 1900, 2100 then it must be divisible by 400."
   ]
  },
  {
   "cell_type": "code",
   "execution_count": 26,
   "metadata": {
    "id": "QUL_YUX3MVj7"
   },
   "outputs": [
    {
     "name": "stdin",
     "output_type": "stream",
     "text": [
      "Enter a year:  2023\n"
     ]
    },
    {
     "name": "stdout",
     "output_type": "stream",
     "text": [
      "2023 is not a leap year.\n"
     ]
    }
   ],
   "source": [
    "year = int(input(\"Enter a year: \"))\n",
    "if (year % 4 == 0 and year % 100 != 0) or (year % 400 == 0):\n",
    "    print(f\"{year} is a leap year.\")\n",
    "else:\n",
    "    print(f\"{year} is not a leap year.\")"
   ]
  },
  {
   "cell_type": "markdown",
   "metadata": {
    "id": "CCNg4yDDMVj8"
   },
   "source": [
    "##### 16) Ask user to enter age, gender ( M or F ), marital status ( Y or N ) and then using following rules print their place of service.\n",
    "\n",
    "if employee is female, then she will work only in urban areas.\n",
    "\n",
    "if employee is a male and age is in between 20 to 40 then he may work in anywhere\n",
    "\n",
    "if employee is male and age is in between 40 t0 60 then he will work in urban areas only.\n",
    "\n",
    "And any other input of age should print \"ERROR\""
   ]
  },
  {
   "cell_type": "code",
   "execution_count": 33,
   "metadata": {
    "id": "RDWMB0CZMVj8"
   },
   "outputs": [
    {
     "name": "stdin",
     "output_type": "stream",
     "text": [
      "Enter your age:  22\n",
      "Enter your gender (M/F):  m\n",
      "Enter your marital status (Y/N):  y\n"
     ]
    },
    {
     "name": "stdout",
     "output_type": "stream",
     "text": [
      "The Employee may work anywhere.\n"
     ]
    }
   ],
   "source": [
    "age = int(input(\"Enter your age: \"))\n",
    "gender = input(\"Enter your gender (M/F): \").upper()\n",
    "marital_status = input(\"Enter your marital status (Y/N): \").upper()\n",
    "if gender == 'F':\n",
    "    print(\"The Employee will work only in urban areas.\")\n",
    "elif gender == 'M':\n",
    "    if 20 <= age <= 40:\n",
    "        print(\"The Employee may work anywhere.\")\n",
    "    elif 40 < age <= 60:\n",
    "        print(\"The Employee will work in urban areas only.\")\n",
    "    else:\n",
    "        print(\"ERROR\")\n",
    "else:\n",
    "    print(\"ERROR\")"
   ]
  },
  {
   "cell_type": "code",
   "execution_count": 36,
   "metadata": {},
   "outputs": [
    {
     "name": "stdin",
     "output_type": "stream",
     "text": [
      "Enter your age 2\n"
     ]
    },
    {
     "name": "stdout",
     "output_type": "stream",
     "text": [
      "<class 'int'>\n",
      "-8\n"
     ]
    }
   ],
   "source": [
    "salman_age = int(input(\"Enter your age\"))\n",
    "print(type(salman_age))\n",
    "print(salman_age-10)"
   ]
  },
  {
   "cell_type": "code",
   "execution_count": 37,
   "metadata": {},
   "outputs": [
    {
     "data": {
      "text/plain": [
       "2"
      ]
     },
     "execution_count": 37,
     "metadata": {},
     "output_type": "execute_result"
    }
   ],
   "source": [
    "salman_age"
   ]
  },
  {
   "cell_type": "code",
   "execution_count": null,
   "metadata": {},
   "outputs": [],
   "source": []
  }
 ],
 "metadata": {
  "colab": {
   "name": "If then Else &Elif Practice Task .ipynb",
   "provenance": []
  },
  "kernelspec": {
   "display_name": "Python 3 (ipykernel)",
   "language": "python",
   "name": "python3"
  },
  "language_info": {
   "codemirror_mode": {
    "name": "ipython",
    "version": 3
   },
   "file_extension": ".py",
   "mimetype": "text/x-python",
   "name": "python",
   "nbconvert_exporter": "python",
   "pygments_lexer": "ipython3",
   "version": "3.11.7"
  }
 },
 "nbformat": 4,
 "nbformat_minor": 4
}
