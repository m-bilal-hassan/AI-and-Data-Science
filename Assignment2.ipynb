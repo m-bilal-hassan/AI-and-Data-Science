{
 "cells": [
  {
   "cell_type": "markdown",
   "id": "5b9bc627-2ca3-4bb2-87ab-11ceaf3723e7",
   "metadata": {},
   "source": [
    "# Assighnment---2 (SMIT)\n",
    "##### \t1) Write a Python program that asks the user to enter their age. Based on the input, classify the user as a \"Minor\" (below 18), \"Adult\" (18-60), or Senior Citizen\" (above 60)."
   ]
  },
  {
   "cell_type": "code",
   "execution_count": 31,
   "id": "078c41dd-29d1-49c4-beec-d226d9280d6d",
   "metadata": {},
   "outputs": [
    {
     "name": "stdin",
     "output_type": "stream",
     "text": [
      "Enter your age:  105\n"
     ]
    },
    {
     "name": "stdout",
     "output_type": "stream",
     "text": [
      "your are  Senior Citizen Beacause your age is upper-60: 105-Year-old \n"
     ]
    }
   ],
   "source": [
    "Age=int(input(\"Enter your age: \"))\n",
    "if Age<18:\n",
    "    print(f\"your are  Minor Beacause your age is below-18: {Age}-Year-old \")\n",
    "elif 18<=Age<=60:\n",
    "    print(f\"your are  Adult Beacause your age is upper-18: {Age}-Year-old \")\n",
    "else:\n",
    "    print(f\"your are  Senior Citizen Beacause your age is upper-60: {Age}-Year-old \")"
   ]
  },
  {
   "cell_type": "markdown",
   "id": "ea008240-9743-475b-91ef-2b43269d9447",
   "metadata": {},
   "source": [
    "\n",
    "##### 2) Write a Python program that takes an integer input from the user and checks whether it is even or odd."
   ]
  },
  {
   "cell_type": "code",
   "execution_count": 32,
   "id": "4ab3f2e7-9697-4d26-a02f-6da0dea61e48",
   "metadata": {},
   "outputs": [
    {
     "name": "stdin",
     "output_type": "stream",
     "text": [
      "Enter a Any Number:  132925\n"
     ]
    },
    {
     "name": "stdout",
     "output_type": "stream",
     "text": [
      "132925: is odd Number\n"
     ]
    }
   ],
   "source": [
    "Num=int(input(\"Enter a Any Number: \"))\n",
    "if Num%2==0:\n",
    "    print(f\"{Num}: is even Number\")\n",
    "else:\n",
    "    print(f\"{Num}: is odd Number\")"
   ]
  },
  {
   "cell_type": "markdown",
   "id": "d34a1d80-d006-4d4b-97d4-c0e5179c8b3c",
   "metadata": {},
   "source": [
    "##### 3) Ask the user to enter their exam score (0-100). Based on the score, print the corresponding grade:\n",
    "##### A (90-100) B (80-89) C (70-79) D (60-69) F (Below 60)"
   ]
  },
  {
   "cell_type": "code",
   "execution_count": 59,
   "id": "860f3dc6-4ce9-420c-82c6-bdcee601c8cf",
   "metadata": {},
   "outputs": [
    {
     "name": "stdin",
     "output_type": "stream",
     "text": [
      "Please enter your exam score (0-100):  555\n"
     ]
    },
    {
     "name": "stdout",
     "output_type": "stream",
     "text": [
      "Invalid score. Please enter a score between 0 and 100.\n"
     ]
    }
   ],
   "source": [
    "score = float(input(\"Please enter your exam score (0-100): \"))\n",
    "if 90 <= score <= 100:\n",
    "    print(\"Grade: A\")\n",
    "elif 80 <= score < 90:\n",
    "    print(\"Grade: B\")\n",
    "elif 70 <= score < 80:\n",
    "    print(\"Grade: C\")\n",
    "elif 60 <= score < 70:\n",
    "    print(\"Grade: D\")\n",
    "elif 0 <= score < 60:\n",
    "    print(\"Grade: F\")\n",
    "else:\n",
    "    print(\"Invalid score. Please enter a score between 0 and 100.\")"
   ]
  },
  {
   "cell_type": "markdown",
   "id": "fc593a9a-a49f-4dc0-816d-cc9b491a9fa3",
   "metadata": {},
   "source": [
    "##### 4) Write a Python program that takes a number as input and determines whether it is positive, negative, or zero"
   ]
  },
  {
   "cell_type": "code",
   "execution_count": 69,
   "id": "3db5d89d-13e2-4ff6-9763-de8880be00eb",
   "metadata": {},
   "outputs": [
    {
     "name": "stdin",
     "output_type": "stream",
     "text": [
      "Enter A any Number:   89\n"
     ]
    },
    {
     "name": "stdout",
     "output_type": "stream",
     "text": [
      "89: number is positive\n"
     ]
    }
   ],
   "source": [
    "num=int(input(\"Enter A any Number:  \"))\n",
    "if num>0:\n",
    "    print(f\"{num}: number is positive\")\n",
    "elif num<0:\n",
    "    print(f\"{num}: num is negative\")\n",
    "else:\n",
    "    print(f\"{num}: num is zero\")"
   ]
  },
  {
   "cell_type": "markdown",
   "id": "db0eb0ef-e2b4-4bcc-a801-ae852c778a10",
   "metadata": {},
   "source": [
    "##### 5) Write a Python program that takes the user's age as input and prints whether they are eligible to vote (age 18 and above) or not."
   ]
  },
  {
   "cell_type": "code",
   "execution_count": 80,
   "id": "1afd57d8-5f27-41ae-82c9-ac0db468d8b1",
   "metadata": {},
   "outputs": [
    {
     "name": "stdin",
     "output_type": "stream",
     "text": [
      "Enter Your age:  69\n"
     ]
    },
    {
     "name": "stdout",
     "output_type": "stream",
     "text": [
      "You are Eligible For vote: Your Age is:69-Year-old\n"
     ]
    }
   ],
   "source": [
    "age=int(input(\"Enter Your age: \"))\n",
    "if age>=18:\n",
    "    print(f\"You are Eligible For vote: Your Age is:{age}-Year-old\")\n",
    "else:\n",
    "    print(f\"You are Not Eligible for vote: Your Age is:{age}-Year-old\")"
   ]
  },
  {
   "cell_type": "markdown",
   "id": "3a9655cb-1346-470f-bbf6-7b702e8e7372",
   "metadata": {},
   "source": [
    "##### 6) Take three numbers as input from the user and determine the largest number among them."
   ]
  },
  {
   "cell_type": "code",
   "execution_count": 85,
   "id": "7f2639fa-1830-4b84-b063-f3feb0c4bb4f",
   "metadata": {},
   "outputs": [
    {
     "name": "stdin",
     "output_type": "stream",
     "text": [
      "Enter 1st Number:  69\n",
      "Enter 2nd Number:  9999\n",
      "Enter 3rd Number:  58489498\n"
     ]
    },
    {
     "name": "stdout",
     "output_type": "stream",
     "text": [
      "Number 3 is greater: 58489498\n"
     ]
    }
   ],
   "source": [
    "num1=int(input(\"Enter 1st Number: \"))\n",
    "num2=int(input(\"Enter 2nd Number: \"))\n",
    "num3=int(input(\"Enter 3rd Number: \"))\n",
    "if num1>= num2 and num1>=num3:\n",
    "    print(f\"Number 1 is greater: {num1}\")\n",
    "elif num2>=num1 and num2>=num3:\n",
    "    print(f\"Number 2 is greater: {num2}\")\n",
    "else:\n",
    "    print(f\"Number 3 is greater: {num3}\")"
   ]
  },
  {
   "cell_type": "markdown",
   "id": "c76571ce-0f59-488e-bb07-2aed913c6802",
   "metadata": {},
   "source": [
    "##### 7) Write a Python program that asks the user to enter a year and determines whether it is a leap year or not. (A year is a leap year if it is divisible by 4 but not divisible by 100, unless it is also divisible by 400)."
   ]
  },
  {
   "cell_type": "code",
   "execution_count": 97,
   "id": "6242ebec-fff9-4f67-89f1-759a405f6b64",
   "metadata": {},
   "outputs": [
    {
     "name": "stdin",
     "output_type": "stream",
     "text": [
      "Enter a year:  2028\n"
     ]
    },
    {
     "name": "stdout",
     "output_type": "stream",
     "text": [
      "2028: is a leap year.\n"
     ]
    }
   ],
   "source": [
    "Year = int(input(\"Enter a year: \"))\n",
    "if (Year % 4 == 0 and Year % 100 != 0) or (Year % 400 == 0):\n",
    "    print(f\"{Year}: is a leap year.\")\n",
    "else:\n",
    "    print(f\"{Year}: is not a leap year.\")"
   ]
  },
  {
   "cell_type": "markdown",
   "id": "48138aef-c571-4e05-90a0-aec6bdcd14d1",
   "metadata": {},
   "source": [
    "##### 8) Ask the user to enter a number between 1 and 7. Print the corresponding day of the week (1 = Sunday, 2 = Monday, etc.). If the input is out of range, print \"Invalid input\"."
   ]
  },
  {
   "cell_type": "code",
   "execution_count": 111,
   "id": "3a152d08-915a-42d9-9419-df6e5cb9a120",
   "metadata": {},
   "outputs": [
    {
     "name": "stdin",
     "output_type": "stream",
     "text": [
      "Enter a Number Between(1-7):  9939\n"
     ]
    },
    {
     "name": "stdout",
     "output_type": "stream",
     "text": [
      "Sorry!! You Are Enter Invalid Number:9939\n"
     ]
    }
   ],
   "source": [
    "number=int(input(\"Enter a Number Between(1-7): \"))\n",
    "if number==7:\n",
    "    print(f\"Number {number}: is Sunday\")\n",
    "elif number==6:\n",
    "    print(f\"Number {number}: is Saturday\")\n",
    "elif number==5:\n",
    "    print(f\"Number {number}: is Friday\")\n",
    "elif number==4:\n",
    "    print(f\"Number {number}: is Thursday\")\n",
    "elif number==3:\n",
    "    print(f\"Number {number}: is Wednesday\")\n",
    "elif number==2:\n",
    "    print(f\"Number {number}: is Tuesday\")\n",
    "elif number==1:\n",
    "    print(f\"Number {number}: is Monday\")\n",
    "else:\n",
    "    print(f\"Sorry!! You Are Enter Invalid Number:{number}\")  "
   ]
  },
  {
   "cell_type": "markdown",
   "id": "497c4495-7fd4-4d42-a285-a199e7bc2ae7",
   "metadata": {},
   "source": [
    "##### 9) Ask the user to enter an amount in PKR and convert it to Dollors"
   ]
  },
  {
   "cell_type": "code",
   "execution_count": 117,
   "id": "7fe5f088-2c5c-4598-9459-8491d11197f4",
   "metadata": {},
   "outputs": [
    {
     "name": "stdin",
     "output_type": "stream",
     "text": [
      "Please!: Enter a Rupees in (PKR):  30000\n"
     ]
    },
    {
     "name": "stdout",
     "output_type": "stream",
     "text": [
      "Amount_in_Doller Is---107.52688172043011.$$\n"
     ]
    }
   ],
   "source": [
    "Amount=float(input(\"Please!: Enter a Rupees in (PKR): \"))\n",
    "Amount_in_Doller=Amount/279\n",
    "print(f\"Amount_in_Doller Is---{Amount_in_Doller}.$$\")"
   ]
  },
  {
   "cell_type": "markdown",
   "id": "99aa191e-8b91-4600-9a3c-cd7909d85195",
   "metadata": {},
   "source": [
    "##### 10) Take an integer input and determine if it is a prime number only divisible by 1 and itself"
   ]
  },
  {
   "cell_type": "code",
   "execution_count": 118,
   "id": "5483c505-88f9-4aad-81ed-14413d3542e8",
   "metadata": {},
   "outputs": [
    {
     "name": "stdin",
     "output_type": "stream",
     "text": [
      "Enter an integer:  256\n"
     ]
    },
    {
     "name": "stdout",
     "output_type": "stream",
     "text": [
      "256 is not a prime number.\n"
     ]
    }
   ],
   "source": [
    "num = int(input(\"Enter an integer: \"))\n",
    "if num > 1:\n",
    "    for i in range(2, num):\n",
    "        if num % i == 0:\n",
    "            print(f\"{num} is not a prime number.\")\n",
    "            break\n",
    "    else:\n",
    "        print(f\"{num} is a prime number.\")\n",
    "else:\n",
    "    print(f\"{num} is not a prime number.\")"
   ]
  },
  {
   "cell_type": "markdown",
   "id": "9bf69b15-5692-4f91-992c-8a77537e8bdf",
   "metadata": {},
   "source": [
    "##### 11) Take a number as input and check whether it is divisible by both 5 and 11."
   ]
  },
  {
   "cell_type": "code",
   "execution_count": 130,
   "id": "307eecde-1511-4d00-a78f-f7107d4fe070",
   "metadata": {},
   "outputs": [
    {
     "name": "stdin",
     "output_type": "stream",
     "text": [
      "Enter a any Number:  33\n"
     ]
    },
    {
     "name": "stdout",
     "output_type": "stream",
     "text": [
      "33: Number is Divisible by 11\n"
     ]
    }
   ],
   "source": [
    "num_ber=int(input(\"Enter a any Number: \"))\n",
    "if num_ber%5==0:\n",
    "    print(f\"{num_ber}: Number is Divisible by 5\")\n",
    "elif num_ber%11==0:\n",
    "    print(f\"{num_ber}: Number is Divisible by 11\")\n",
    "else:\n",
    "    print(f\"Erorr: invalid Character: \")"
   ]
  },
  {
   "cell_type": "markdown",
   "id": "e8446710-8584-4687-8b56-37a13ad7143e",
   "metadata": {},
   "source": [
    "##### 12) Ask the user to input a single character. Determine whether it is uppercase or lowercase."
   ]
  },
  {
   "cell_type": "code",
   "execution_count": 140,
   "id": "fd8b8db6-4f0d-4bea-9c5e-bf2c4ea4e201",
   "metadata": {},
   "outputs": [
    {
     "name": "stdin",
     "output_type": "stream",
     "text": [
      "Enter a Single Character:  L\n"
     ]
    },
    {
     "name": "stdout",
     "output_type": "stream",
     "text": [
      "This is Upper Letter\n"
     ]
    }
   ],
   "source": [
    "value=input(\"Enter a Single Character: \")\n",
    "if value.isupper():\n",
    "    print(f\"This is Upper Letter\")\n",
    "elif value.islower():\n",
    "    print(f\"This is Lower Letter\")\n",
    "else:\n",
    "    print(f\"Erorr: invalid Character: \")"
   ]
  },
  {
   "cell_type": "markdown",
   "id": "adc6ad96-8af4-48fd-a8af-c04052278eae",
   "metadata": {},
   "source": [
    "##### 13) ask the user to input string Count the Number of Characters"
   ]
  },
  {
   "cell_type": "code",
   "execution_count": 150,
   "id": "fbbbdbbc-71d6-4eaf-89d0-9494a48b4724",
   "metadata": {},
   "outputs": [
    {
     "name": "stdin",
     "output_type": "stream",
     "text": [
      "Please enter a string:  ddfsed\n"
     ]
    },
    {
     "name": "stdout",
     "output_type": "stream",
     "text": [
      "The number of characters in the string is: 6\n"
     ]
    }
   ],
   "source": [
    "user_input = input(\"Please enter a string: \")\n",
    "char_count = len(user_input)\n",
    "print(f\"The number of characters in the string is: {char_count}\")"
   ]
  },
  {
   "cell_type": "markdown",
   "id": "bd73c44e-4f53-4a31-9460-b60192569af4",
   "metadata": {},
   "source": [
    "##### 14) Write a Python program that takes a string input from the user and prints it in uppercase using a string function"
   ]
  },
  {
   "cell_type": "code",
   "execution_count": 153,
   "id": "5b0a7534-07c0-48ce-9cc6-7643c04de0e8",
   "metadata": {},
   "outputs": [
    {
     "name": "stdin",
     "output_type": "stream",
     "text": [
      "Please enter a string:  gdf\n"
     ]
    },
    {
     "name": "stdout",
     "output_type": "stream",
     "text": [
      "The string in uppercase is:  GDF\n"
     ]
    }
   ],
   "source": [
    "user_input = input(\"Please enter a string: \")\n",
    "uppercase_string = user_input.upper()\n",
    "print(f\"The string in uppercase is:  {uppercase_string}\")"
   ]
  },
  {
   "cell_type": "markdown",
   "id": "3a64b688-216d-4980-b2ab-f7a23be7a8d4",
   "metadata": {},
   "source": [
    "##### 15) Take a sentence input from the user and replace all occurrences of a specific word with another word using the replace() function"
   ]
  },
  {
   "cell_type": "code",
   "execution_count": 159,
   "id": "55585c89-bfc1-4652-87e7-35a67464c3e7",
   "metadata": {},
   "outputs": [
    {
     "name": "stdin",
     "output_type": "stream",
     "text": [
      "Please enter a sentence:  My name is Bilal\n",
      "Enter the word you want to replace:  M\n",
      "Enter the word you want to replace it with:  L\n"
     ]
    },
    {
     "name": "stdout",
     "output_type": "stream",
     "text": [
      "The modified sentence is: Ly name is Bilal\n"
     ]
    }
   ],
   "source": [
    "sentence = input(\"Please enter a sentence: \")\n",
    "old_word = input(\"Enter the word you want to replace: \")\n",
    "new_word = input(\"Enter the word you want to replace it with: \")\n",
    "modified_sentence = sentence.replace(old_word, new_word)\n",
    "print(f\"The modified sentence is: {modified_sentence}\")"
   ]
  },
  {
   "cell_type": "markdown",
   "id": "b708f968-849d-4c1e-8982-b280895ae1d8",
   "metadata": {},
   "source": [
    "##### 16) Write a Python program that asks the user to enter a string and checks whether it is numeric using the isnumeric() function."
   ]
  },
  {
   "cell_type": "code",
   "execution_count": 162,
   "id": "84ca5c77-b501-4542-b851-c11136ce7a08",
   "metadata": {},
   "outputs": [
    {
     "name": "stdin",
     "output_type": "stream",
     "text": [
      "Please enter a string:  25\n"
     ]
    },
    {
     "name": "stdout",
     "output_type": "stream",
     "text": [
      "The entered string is numeric.\n"
     ]
    }
   ],
   "source": [
    "input_str = input(\"Please enter a string: \")\n",
    "if input_str.isnumeric():\n",
    "    print(f\"The entered string is numeric.\")\n",
    "else:\n",
    "    print(f\"The entered string is not numeric.\")"
   ]
  },
  {
   "cell_type": "markdown",
   "id": "5961ac5f-1d21-4eaf-8833-1f2d9d0b9f68",
   "metadata": {},
   "source": [
    "##### 17) Write a Python program that removes extra spaces from the beginning and end of a string using the strip() function"
   ]
  },
  {
   "cell_type": "code",
   "execution_count": 164,
   "id": "81c19899-fa3e-4153-9acb-0a73b614ea72",
   "metadata": {},
   "outputs": [
    {
     "name": "stdin",
     "output_type": "stream",
     "text": [
      "Please enter a string with extra spaces:  My name is                Bilal\n"
     ]
    },
    {
     "name": "stdout",
     "output_type": "stream",
     "text": [
      "The string without extra spaces is: My name is                Bilal\n"
     ]
    }
   ],
   "source": [
    "sen_input = input(\"Please enter a string with extra spaces: \")\n",
    "stripped_string = sen_input.strip()\n",
    "print(f\"The string without extra spaces is: {stripped_string}\")"
   ]
  },
  {
   "cell_type": "markdown",
   "id": "b5904b0d-bb05-4ab8-9702-78bb4d7f7990",
   "metadata": {},
   "source": [
    "##### 18) Take a sentence input and convert it into title case (capitalize the first letter of each word) using title()."
   ]
  },
  {
   "cell_type": "code",
   "execution_count": 167,
   "id": "81963e6e-e807-4ef3-99fc-9bc0805dc7e3",
   "metadata": {},
   "outputs": [
    {
     "name": "stdin",
     "output_type": "stream",
     "text": [
      "Entre a Sentence in String:  bilal\n"
     ]
    },
    {
     "name": "stdout",
     "output_type": "stream",
     "text": [
      "Bilal\n"
     ]
    }
   ],
   "source": [
    "T_Input=input('Entre a Sentence in String: ')\n",
    "print(T_Input.title())"
   ]
  }
 ],
 "metadata": {
  "kernelspec": {
   "display_name": "Python 3 (ipykernel)",
   "language": "python",
   "name": "python3"
  },
  "language_info": {
   "codemirror_mode": {
    "name": "ipython",
    "version": 3
   },
   "file_extension": ".py",
   "mimetype": "text/x-python",
   "name": "python",
   "nbconvert_exporter": "python",
   "pygments_lexer": "ipython3",
   "version": "3.11.7"
  }
 },
 "nbformat": 4,
 "nbformat_minor": 5
}
